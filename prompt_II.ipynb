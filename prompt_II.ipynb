{
 "cells": [
  {
   "cell_type": "markdown",
   "metadata": {},
   "source": [
    "# What drives the price of a car?\n"
   ]
  },
  {
   "cell_type": "markdown",
   "metadata": {},
   "source": [
    "**OVERVIEW**\n",
    "\n",
    "In this application, you will explore a dataset from kaggle. The original dataset contained information on 3 million used cars. The provided dataset contains information on 426K cars to ensure speed of processing.  Your goal is to understand what factors make a car more or less expensive.  As a result of your analysis, you should provide clear recommendations to your client -- a used car dealership -- as to what consumers value in a used car."
   ]
  },
  {
   "cell_type": "markdown",
   "metadata": {},
   "source": [
    "### CRISP-DM Framework\n",
    "\n",
    "<center>\n",
    "    <img src = images/crisp.png width = 50%/>\n",
    "</center>\n",
    "\n",
    "\n",
    "To frame the task, throughout our practical applications we will refer back to a standard process in industry for data projects called CRISP-DM.  This process provides a framework for working through a data problem.  Your first step in this application will be to read through a brief overview of CRISP-DM [here](https://mo-pcco.s3.us-east-1.amazonaws.com/BH-PCMLAI/module_11/readings_starter.zip).  After reading the overview, answer the questions below."
   ]
  },
  {
   "cell_type": "markdown",
   "metadata": {},
   "source": [
    "### Business Understanding\n",
    "\n",
    "From a business perspective, we are tasked with identifying key drivers for used car prices.  In the CRISP-DM overview, we are asked to convert this business framing to a data problem definition.  Using a few sentences, reframe the task as a data task with the appropriate technical vocabulary. "
   ]
  },
  {
   "cell_type": "markdown",
   "metadata": {},
   "source": [
    "# What do consumers value in a used car?\n",
    "\n",
    "## Background\n",
    "Used car dealerships purchase pre-owned vehicles at a price based on the vehicle's features. The dealership will perform modifications, fixes, and updates, if needed, in order to re-sell the vehicle for a profit.  \n",
    "\n",
    "## Business Objectives\n",
    "Used car dealerships want to know what factors, qualities and features of a vehicle they should pay attention to when purchasing pre-owned vehicles in order to target used vehicles to sell for a profit. The objective is to identify what factors influence a vehicle's value the most. \n",
    "\n",
    "## Business Success Criteria\n",
    "Identification of factors that influence the price of a car. Provide these factors to clients so they can use these in their analysis.\n",
    "\n",
    "## Inventory of Resources\n",
    "Access to dataset of 426k used cars\n",
    "\n",
    "## Requirements\n",
    "\n",
    "## Assumptions\n",
    "\n",
    "## Constraints\n",
    "\n",
    "## Risks and Contingencies\n",
    "\n",
    "## Terminology\n",
    "\n",
    "## Costs and Benefits\n",
    "\n",
    "## Data Mining Goals\n",
    "\n",
    "## Data Mining Success Criteria \n",
    "\n",
    "## Project Plan\n",
    "\n",
    "## Assessment of Tools and Techniques\n"
   ]
  },
  {
   "cell_type": "code",
   "execution_count": null,
   "metadata": {},
   "outputs": [],
   "source": []
  },
  {
   "cell_type": "code",
   "execution_count": null,
   "metadata": {},
   "outputs": [],
   "source": []
  },
  {
   "cell_type": "code",
   "execution_count": null,
   "metadata": {},
   "outputs": [],
   "source": []
  },
  {
   "cell_type": "markdown",
   "metadata": {},
   "source": []
  },
  {
   "cell_type": "code",
   "execution_count": null,
   "metadata": {},
   "outputs": [],
   "source": []
  },
  {
   "cell_type": "markdown",
   "metadata": {},
   "source": [
    "### Data Understanding\n",
    "\n",
    "After considering the business understanding, we want to get familiar with our data.  Write down some steps that you would take to get to know the dataset and identify any quality issues within.  Take time to get to know the dataset and explore what information it contains and how this could be used to inform your business understanding."
   ]
  },
  {
   "cell_type": "code",
   "execution_count": 285,
   "metadata": {},
   "outputs": [],
   "source": [
    "import pandas as pd\n"
   ]
  },
  {
   "cell_type": "code",
   "execution_count": 286,
   "metadata": {},
   "outputs": [
    {
     "name": "stdout",
     "output_type": "stream",
     "text": [
      "<class 'pandas.core.frame.DataFrame'>\n",
      "RangeIndex: 426880 entries, 0 to 426879\n",
      "Data columns (total 18 columns):\n",
      " #   Column        Non-Null Count   Dtype  \n",
      "---  ------        --------------   -----  \n",
      " 0   id            426880 non-null  int64  \n",
      " 1   region        426880 non-null  object \n",
      " 2   price         426880 non-null  int64  \n",
      " 3   year          425675 non-null  float64\n",
      " 4   manufacturer  409234 non-null  object \n",
      " 5   model         421603 non-null  object \n",
      " 6   condition     252776 non-null  object \n",
      " 7   cylinders     249202 non-null  object \n",
      " 8   fuel          423867 non-null  object \n",
      " 9   odometer      422480 non-null  float64\n",
      " 10  title_status  418638 non-null  object \n",
      " 11  transmission  424324 non-null  object \n",
      " 12  VIN           265838 non-null  object \n",
      " 13  drive         296313 non-null  object \n",
      " 14  size          120519 non-null  object \n",
      " 15  type          334022 non-null  object \n",
      " 16  paint_color   296677 non-null  object \n",
      " 17  state         426880 non-null  object \n",
      "dtypes: float64(2), int64(2), object(14)\n",
      "memory usage: 58.6+ MB\n"
     ]
    }
   ],
   "source": [
    "df = pd.read_csv('data/vehicles.csv')\n",
    "df.info()"
   ]
  },
  {
   "cell_type": "code",
   "execution_count": 287,
   "metadata": {},
   "outputs": [
    {
     "data": {
      "text/plain": [
       "Index(['id', 'region', 'price', 'year', 'manufacturer', 'model', 'condition',\n",
       "       'cylinders', 'fuel', 'odometer', 'title_status', 'transmission', 'VIN',\n",
       "       'drive', 'size', 'type', 'paint_color', 'state'],\n",
       "      dtype='object')"
      ]
     },
     "execution_count": 287,
     "metadata": {},
     "output_type": "execute_result"
    }
   ],
   "source": [
    "df.columns"
   ]
  },
  {
   "cell_type": "code",
   "execution_count": 288,
   "metadata": {},
   "outputs": [],
   "source": [
    "df = df[[\n",
    "    # Commenting out id\n",
    "    # 'id', \n",
    "    'region', \n",
    "    'price', \n",
    "\n",
    "    # VIN contains the model year\n",
    "    'year', \n",
    "\n",
    "    # VIN contains the vehicle manufacturer\n",
    "    'manufacturer', \n",
    "\n",
    "    'model', \n",
    "    'condition',\n",
    "    'cylinders', \n",
    "    'fuel', \n",
    "    'odometer', \n",
    "    'title_status', \n",
    "    'transmission', \n",
    "    'VIN',\n",
    "    'drive', \n",
    "    'size', \n",
    "    'type', \n",
    "    'paint_color', \n",
    "    'state'\n",
    "    ]].copy()"
   ]
  },
  {
   "cell_type": "code",
   "execution_count": 289,
   "metadata": {},
   "outputs": [
    {
     "name": "stdout",
     "output_type": "stream",
     "text": [
      "(426880, 17)\n"
     ]
    },
    {
     "data": {
      "text/plain": [
       "region           0.000000\n",
       "price            0.000000\n",
       "year             0.282281\n",
       "manufacturer     4.133714\n",
       "model            1.236179\n",
       "condition       40.785232\n",
       "cylinders       41.622470\n",
       "fuel             0.705819\n",
       "odometer         1.030735\n",
       "title_status     1.930753\n",
       "transmission     0.598763\n",
       "VIN             37.725356\n",
       "drive           30.586347\n",
       "size            71.767476\n",
       "type            21.752717\n",
       "paint_color     30.501078\n",
       "state            0.000000\n",
       "dtype: float64"
      ]
     },
     "execution_count": 289,
     "metadata": {},
     "output_type": "execute_result"
    }
   ],
   "source": [
    "# Percentage of each column that is missing\n",
    "print(df.shape)\n",
    "df.isnull().sum() / df.shape[0] * 100"
   ]
  },
  {
   "cell_type": "code",
   "execution_count": 290,
   "metadata": {},
   "outputs": [],
   "source": [
    "# 71% of size is missing, this data can be determined from the VIN, dropping this column\n",
    "df = df.drop('size', axis=1)"
   ]
  },
  {
   "cell_type": "code",
   "execution_count": 291,
   "metadata": {},
   "outputs": [
    {
     "name": "stdout",
     "output_type": "stream",
     "text": [
      "(426880, 16)\n"
     ]
    },
    {
     "data": {
      "text/plain": [
       "region           0.000000\n",
       "price            0.000000\n",
       "year             0.282281\n",
       "manufacturer     4.133714\n",
       "model            1.236179\n",
       "condition       40.785232\n",
       "cylinders       41.622470\n",
       "fuel             0.705819\n",
       "odometer         1.030735\n",
       "title_status     1.930753\n",
       "transmission     0.598763\n",
       "VIN             37.725356\n",
       "drive           30.586347\n",
       "type            21.752717\n",
       "paint_color     30.501078\n",
       "state            0.000000\n",
       "dtype: float64"
      ]
     },
     "execution_count": 291,
     "metadata": {},
     "output_type": "execute_result"
    }
   ],
   "source": [
    "print(df.shape)\n",
    "df.isnull().sum() / df.shape[0] * 100"
   ]
  },
  {
   "cell_type": "code",
   "execution_count": 292,
   "metadata": {},
   "outputs": [
    {
     "data": {
      "text/plain": [
       "NaN          0.407852\n",
       "good         0.284520\n",
       "excellent    0.237694\n",
       "like new     0.049611\n",
       "fair         0.015857\n",
       "new          0.003057\n",
       "salvage      0.001408\n",
       "Name: condition, dtype: float64"
      ]
     },
     "execution_count": 292,
     "metadata": {},
     "output_type": "execute_result"
    }
   ],
   "source": [
    "df['condition'].value_counts(dropna=False, normalize=True)"
   ]
  },
  {
   "cell_type": "code",
   "execution_count": 293,
   "metadata": {},
   "outputs": [],
   "source": [
    "# Condition is too subjective, dropping this column\n",
    "df = df.drop('condition', axis=1)"
   ]
  },
  {
   "cell_type": "code",
   "execution_count": 294,
   "metadata": {},
   "outputs": [
    {
     "name": "stdout",
     "output_type": "stream",
     "text": [
      "(426880, 15)\n"
     ]
    },
    {
     "data": {
      "text/plain": [
       "region           0.000000\n",
       "price            0.000000\n",
       "year             0.282281\n",
       "manufacturer     4.133714\n",
       "model            1.236179\n",
       "cylinders       41.622470\n",
       "fuel             0.705819\n",
       "odometer         1.030735\n",
       "title_status     1.930753\n",
       "transmission     0.598763\n",
       "VIN             37.725356\n",
       "drive           30.586347\n",
       "type            21.752717\n",
       "paint_color     30.501078\n",
       "state            0.000000\n",
       "dtype: float64"
      ]
     },
     "execution_count": 294,
     "metadata": {},
     "output_type": "execute_result"
    }
   ],
   "source": [
    "print(df.shape)\n",
    "df.isnull().sum() / df.shape[0] * 100"
   ]
  },
  {
   "cell_type": "code",
   "execution_count": 295,
   "metadata": {},
   "outputs": [
    {
     "data": {
      "text/plain": [
       "NaN             0.416225\n",
       "6 cylinders     0.220598\n",
       "4 cylinders     0.181882\n",
       "8 cylinders     0.168811\n",
       "5 cylinders     0.004010\n",
       "10 cylinders    0.003408\n",
       "other           0.003041\n",
       "3 cylinders     0.001534\n",
       "12 cylinders    0.000490\n",
       "Name: cylinders, dtype: float64"
      ]
     },
     "execution_count": 295,
     "metadata": {},
     "output_type": "execute_result"
    }
   ],
   "source": [
    "df['cylinders'].value_counts(dropna=False, normalize=True)"
   ]
  },
  {
   "cell_type": "code",
   "execution_count": 296,
   "metadata": {},
   "outputs": [
    {
     "data": {
      "text/plain": [
       "6     0.379861\n",
       "4     0.313194\n",
       "8     0.290685\n",
       "5     0.006906\n",
       "10    0.005869\n",
       "3     0.002642\n",
       "12    0.000843\n",
       "Name: cylinders, dtype: float64"
      ]
     },
     "execution_count": 296,
     "metadata": {},
     "output_type": "execute_result"
    }
   ],
   "source": [
    "# Cylinders is an important factor in a vehicle, I will remove null values.\n",
    "df = df.dropna(subset=['cylinders'])\n",
    "\n",
    "# Will drop rows with \"other\"\n",
    "df = df[df['cylinders'] != 'other']\n",
    " \n",
    "# Will convert this to numeric value as well\n",
    "mapping = {\n",
    "    \"3 cylinders\": 3,\n",
    "    \"4 cylinders\": 4,\n",
    "    \"6 cylinders\": 6,\n",
    "    \"5 cylinders\": 5,\n",
    "    \"8 cylinders\": 8,\n",
    "    \"10 cylinders\": 10,\n",
    "    \"12 cylinders\": 12\n",
    "    }\n",
    "\n",
    "df['cylinders'] = df['cylinders'].map(mapping)\n",
    "\n",
    "df['cylinders'].value_counts(dropna=False, normalize=True)"
   ]
  },
  {
   "cell_type": "code",
   "execution_count": 297,
   "metadata": {},
   "outputs": [
    {
     "name": "stdout",
     "output_type": "stream",
     "text": [
      "(247904, 15)\n"
     ]
    },
    {
     "data": {
      "text/plain": [
       "region           0.000000\n",
       "price            0.000000\n",
       "year             0.450981\n",
       "manufacturer     3.747418\n",
       "model            0.986269\n",
       "cylinders        0.000000\n",
       "fuel             0.565138\n",
       "odometer         0.604266\n",
       "title_status     2.553408\n",
       "transmission     0.074626\n",
       "VIN             41.419662\n",
       "drive           14.126839\n",
       "type            11.067591\n",
       "paint_color     19.843165\n",
       "state            0.000000\n",
       "dtype: float64"
      ]
     },
     "execution_count": 297,
     "metadata": {},
     "output_type": "execute_result"
    }
   ],
   "source": [
    "print(df.shape)\n",
    "df.isnull().sum() / df.shape[0] * 100"
   ]
  },
  {
   "cell_type": "code",
   "execution_count": 298,
   "metadata": {},
   "outputs": [
    {
     "data": {
      "text/plain": [
       "2017.0    0.077921\n",
       "2013.0    0.072754\n",
       "2015.0    0.071108\n",
       "2014.0    0.071100\n",
       "2018.0    0.069144\n",
       "            ...   \n",
       "1915.0    0.000004\n",
       "1900.0    0.000004\n",
       "1905.0    0.000004\n",
       "1918.0    0.000004\n",
       "1920.0    0.000004\n",
       "Name: year, Length: 108, dtype: float64"
      ]
     },
     "execution_count": 298,
     "metadata": {},
     "output_type": "execute_result"
    }
   ],
   "source": [
    "df['year'].value_counts(dropna=False, normalize=True)"
   ]
  },
  {
   "cell_type": "code",
   "execution_count": 299,
   "metadata": {},
   "outputs": [
    {
     "name": "stdout",
     "output_type": "stream",
     "text": [
      "2022 1900\n"
     ]
    }
   ],
   "source": [
    "# Drop null values of year\n",
    "df = df.dropna(subset=['year'])\n",
    "\n",
    "# Change from float to int\n",
    "df['year'] = df['year'].astype(int)\n",
    "\n",
    "# Max and Min Year\n",
    "print(df['year'].max(), df['year'].min())"
   ]
  },
  {
   "cell_type": "code",
   "execution_count": 300,
   "metadata": {},
   "outputs": [
    {
     "name": "stdout",
     "output_type": "stream",
     "text": [
      "(246786, 15)\n"
     ]
    },
    {
     "data": {
      "text/plain": [
       "region           0.000000\n",
       "price            0.000000\n",
       "year             0.000000\n",
       "manufacturer     3.313802\n",
       "model            0.990737\n",
       "cylinders        0.000000\n",
       "fuel             0.488683\n",
       "odometer         0.606598\n",
       "title_status     2.467320\n",
       "transmission     0.074964\n",
       "VIN             41.607303\n",
       "drive           14.102907\n",
       "type            11.072751\n",
       "paint_color     19.902669\n",
       "state            0.000000\n",
       "dtype: float64"
      ]
     },
     "execution_count": 300,
     "metadata": {},
     "output_type": "execute_result"
    }
   ],
   "source": [
    "print(df.shape)\n",
    "df.isnull().sum() / df.shape[0] * 100"
   ]
  },
  {
   "cell_type": "code",
   "execution_count": 301,
   "metadata": {},
   "outputs": [
    {
     "data": {
      "text/plain": [
       "ford               0.168855\n",
       "chevrolet          0.138796\n",
       "toyota             0.085929\n",
       "honda              0.052548\n",
       "jeep               0.048042\n",
       "nissan             0.045841\n",
       "ram                0.044897\n",
       "gmc                0.043823\n",
       "dodge              0.033681\n",
       "NaN                0.033138\n",
       "bmw                0.029447\n",
       "mercedes-benz      0.027680\n",
       "hyundai            0.022347\n",
       "subaru             0.021638\n",
       "lexus              0.020500\n",
       "volkswagen         0.020078\n",
       "kia                0.017051\n",
       "chrysler           0.015722\n",
       "audi               0.015576\n",
       "cadillac           0.014620\n",
       "acura              0.013068\n",
       "buick              0.012294\n",
       "infiniti           0.011994\n",
       "mazda              0.010864\n",
       "lincoln            0.009129\n",
       "mitsubishi         0.006281\n",
       "pontiac            0.006155\n",
       "volvo              0.005867\n",
       "mini               0.004931\n",
       "rover              0.004380\n",
       "mercury            0.003485\n",
       "porsche            0.003311\n",
       "jaguar             0.002755\n",
       "saturn             0.002642\n",
       "fiat               0.001337\n",
       "alfa-romeo         0.000450\n",
       "ferrari            0.000296\n",
       "datsun             0.000186\n",
       "harley-davidson    0.000182\n",
       "tesla              0.000077\n",
       "aston-martin       0.000065\n",
       "land rover         0.000036\n",
       "morgan             0.000004\n",
       "Name: manufacturer, dtype: float64"
      ]
     },
     "execution_count": 301,
     "metadata": {},
     "output_type": "execute_result"
    }
   ],
   "source": [
    "df['manufacturer'].value_counts(dropna=False, normalize=True)"
   ]
  },
  {
   "cell_type": "code",
   "execution_count": 302,
   "metadata": {},
   "outputs": [],
   "source": [
    "# Drop all null values of manufacturer\n",
    "df = df.dropna(subset=['manufacturer'])"
   ]
  },
  {
   "cell_type": "code",
   "execution_count": 303,
   "metadata": {},
   "outputs": [
    {
     "name": "stdout",
     "output_type": "stream",
     "text": [
      "(238608, 15)\n"
     ]
    },
    {
     "data": {
      "text/plain": [
       "region           0.000000\n",
       "price            0.000000\n",
       "year             0.000000\n",
       "manufacturer     0.000000\n",
       "model            1.024693\n",
       "cylinders        0.000000\n",
       "fuel             0.475676\n",
       "odometer         0.621521\n",
       "title_status     2.518776\n",
       "transmission     0.077114\n",
       "VIN             40.956297\n",
       "drive           14.085446\n",
       "type            10.823610\n",
       "paint_color     20.060937\n",
       "state            0.000000\n",
       "dtype: float64"
      ]
     },
     "execution_count": 303,
     "metadata": {},
     "output_type": "execute_result"
    }
   ],
   "source": [
    "print(df.shape)\n",
    "df.isnull().sum() / df.shape[0] * 100"
   ]
  },
  {
   "cell_type": "code",
   "execution_count": 304,
   "metadata": {},
   "outputs": [
    {
     "data": {
      "text/plain": [
       "f-150                    0.017942\n",
       "silverado 1500           0.014488\n",
       "NaN                      0.010247\n",
       "1500                     0.009887\n",
       "camry                    0.007967\n",
       "                           ...   \n",
       "4500 kodiack             0.000004\n",
       "f-350sd xl               0.000004\n",
       "camry trd v6             0.000004\n",
       "200 limited 4dr sedan    0.000004\n",
       "gand wagoneer            0.000004\n",
       "Name: model, Length: 18030, dtype: float64"
      ]
     },
     "execution_count": 304,
     "metadata": {},
     "output_type": "execute_result"
    }
   ],
   "source": [
    "df['model'].value_counts(dropna=False, normalize=True)"
   ]
  },
  {
   "cell_type": "code",
   "execution_count": 305,
   "metadata": {},
   "outputs": [],
   "source": [
    "# Model is not standardized and inconsistant between manufacturers, dropping this column. This data can be infered from the VIN\n",
    "df = df.drop('model', axis=1)"
   ]
  },
  {
   "cell_type": "code",
   "execution_count": 306,
   "metadata": {},
   "outputs": [
    {
     "name": "stdout",
     "output_type": "stream",
     "text": [
      "(238608, 14)\n"
     ]
    },
    {
     "data": {
      "text/plain": [
       "region           0.000000\n",
       "price            0.000000\n",
       "year             0.000000\n",
       "manufacturer     0.000000\n",
       "cylinders        0.000000\n",
       "fuel             0.475676\n",
       "odometer         0.621521\n",
       "title_status     2.518776\n",
       "transmission     0.077114\n",
       "VIN             40.956297\n",
       "drive           14.085446\n",
       "type            10.823610\n",
       "paint_color     20.060937\n",
       "state            0.000000\n",
       "dtype: float64"
      ]
     },
     "execution_count": 306,
     "metadata": {},
     "output_type": "execute_result"
    }
   ],
   "source": [
    "print(df.shape)\n",
    "df.isnull().sum() / df.shape[0] * 100"
   ]
  },
  {
   "cell_type": "code",
   "execution_count": 307,
   "metadata": {},
   "outputs": [],
   "source": [
    "# VIN is important, contains a lot of important imformation about the vehicle\n",
    "\n",
    "# Drop all rows missing a VIN\n",
    "df = df.dropna(subset=['VIN'])"
   ]
  },
  {
   "cell_type": "code",
   "execution_count": 308,
   "metadata": {},
   "outputs": [
    {
     "name": "stdout",
     "output_type": "stream",
     "text": [
      "(140883, 14)\n"
     ]
    },
    {
     "data": {
      "text/plain": [
       "region           0.000000\n",
       "price            0.000000\n",
       "year             0.000000\n",
       "manufacturer     0.000000\n",
       "cylinders        0.000000\n",
       "fuel             0.790727\n",
       "odometer         0.481960\n",
       "title_status     4.234010\n",
       "transmission     0.130605\n",
       "VIN              0.000000\n",
       "drive           16.104853\n",
       "type             5.459850\n",
       "paint_color     23.422272\n",
       "state            0.000000\n",
       "dtype: float64"
      ]
     },
     "execution_count": 308,
     "metadata": {},
     "output_type": "execute_result"
    }
   ],
   "source": [
    "print(df.shape)\n",
    "df.isnull().sum() / df.shape[0] * 100"
   ]
  },
  {
   "cell_type": "code",
   "execution_count": 309,
   "metadata": {},
   "outputs": [],
   "source": [
    "# Odometer is an important metric for measuring use of vehicle and life left\n",
    "\n",
    "# Drop all rows missing odometer reading\n",
    "df = df.dropna(subset=['odometer'])"
   ]
  },
  {
   "cell_type": "code",
   "execution_count": 310,
   "metadata": {},
   "outputs": [
    {
     "name": "stdout",
     "output_type": "stream",
     "text": [
      "(140204, 14)\n"
     ]
    },
    {
     "data": {
      "text/plain": [
       "region           0.000000\n",
       "price            0.000000\n",
       "year             0.000000\n",
       "manufacturer     0.000000\n",
       "cylinders        0.000000\n",
       "fuel             0.791704\n",
       "odometer         0.000000\n",
       "title_status     4.254515\n",
       "transmission     0.131237\n",
       "VIN              0.000000\n",
       "drive           16.181421\n",
       "type             5.404268\n",
       "paint_color     23.300334\n",
       "state            0.000000\n",
       "dtype: float64"
      ]
     },
     "execution_count": 310,
     "metadata": {},
     "output_type": "execute_result"
    }
   ],
   "source": [
    "print(df.shape)\n",
    "df.isnull().sum() / df.shape[0] * 100"
   ]
  },
  {
   "cell_type": "code",
   "execution_count": 312,
   "metadata": {},
   "outputs": [
    {
     "data": {
      "text/plain": [
       "gas         0.867065\n",
       "diesel      0.068964\n",
       "other       0.043365\n",
       "hybrid      0.012025\n",
       "NaN         0.007917\n",
       "electric    0.000663\n",
       "Name: fuel, dtype: float64"
      ]
     },
     "execution_count": 312,
     "metadata": {},
     "output_type": "execute_result"
    }
   ],
   "source": [
    "df['fuel'].value_counts(dropna=False, normalize=True)"
   ]
  },
  {
   "cell_type": "code",
   "execution_count": 313,
   "metadata": {},
   "outputs": [
    {
     "data": {
      "text/plain": [
       "gas         0.917696\n",
       "diesel      0.069514\n",
       "hybrid      0.012121\n",
       "electric    0.000669\n",
       "Name: fuel, dtype: float64"
      ]
     },
     "execution_count": 313,
     "metadata": {},
     "output_type": "execute_result"
    }
   ],
   "source": [
    "# Fuel type for a vehicle is important\n",
    "\n",
    "# Drop all missing fuel types\n",
    "df.dropna(subset=['fuel'], inplace=True)\n",
    "\n",
    "# Catagorize them into electric, hybrid, gas, diesel (assuming other is gas)\n",
    "mapping = {\n",
    "    \"other\": \"gas\"\n",
    "}\n",
    "df['fuel'] = df['fuel'].map(mapping).fillna(df['fuel'])\n",
    "\n",
    "df['fuel'].value_counts(dropna=False, normalize=True)"
   ]
  },
  {
   "cell_type": "code",
   "execution_count": 315,
   "metadata": {},
   "outputs": [
    {
     "name": "stdout",
     "output_type": "stream",
     "text": [
      "(139094, 14)\n"
     ]
    },
    {
     "data": {
      "text/plain": [
       "region           0.000000\n",
       "price            0.000000\n",
       "year             0.000000\n",
       "manufacturer     0.000000\n",
       "cylinders        0.000000\n",
       "fuel             0.000000\n",
       "odometer         0.000000\n",
       "title_status     4.237422\n",
       "transmission     0.130128\n",
       "VIN              0.000000\n",
       "drive           16.169641\n",
       "type             5.392037\n",
       "paint_color     23.400003\n",
       "state            0.000000\n",
       "dtype: float64"
      ]
     },
     "execution_count": 315,
     "metadata": {},
     "output_type": "execute_result"
    }
   ],
   "source": [
    "print(df.shape)\n",
    "df.isnull().sum() / df.shape[0] * 100"
   ]
  },
  {
   "cell_type": "code",
   "execution_count": 316,
   "metadata": {},
   "outputs": [
    {
     "data": {
      "text/plain": [
       "clean         0.939674\n",
       "NaN           0.042374\n",
       "rebuilt       0.011165\n",
       "salvage       0.005104\n",
       "lien          0.001352\n",
       "missing       0.000288\n",
       "parts only    0.000043\n",
       "Name: title_status, dtype: float64"
      ]
     },
     "execution_count": 316,
     "metadata": {},
     "output_type": "execute_result"
    }
   ],
   "source": [
    "df['title_status'].value_counts(dropna=False, normalize=True)"
   ]
  },
  {
   "cell_type": "code",
   "execution_count": 317,
   "metadata": {},
   "outputs": [],
   "source": [
    "# Could be interesting data. While a majority is clean, I will just remove null values\n",
    "df.dropna(subset=['title_status'], inplace=True)"
   ]
  },
  {
   "cell_type": "code",
   "execution_count": 318,
   "metadata": {},
   "outputs": [
    {
     "name": "stdout",
     "output_type": "stream",
     "text": [
      "(133200, 14)\n"
     ]
    },
    {
     "data": {
      "text/plain": [
       "region           0.000000\n",
       "price            0.000000\n",
       "year             0.000000\n",
       "manufacturer     0.000000\n",
       "cylinders        0.000000\n",
       "fuel             0.000000\n",
       "odometer         0.000000\n",
       "title_status     0.000000\n",
       "transmission     0.135886\n",
       "VIN              0.000000\n",
       "drive           14.397147\n",
       "type             5.622372\n",
       "paint_color     20.328078\n",
       "state            0.000000\n",
       "dtype: float64"
      ]
     },
     "execution_count": 318,
     "metadata": {},
     "output_type": "execute_result"
    }
   ],
   "source": [
    "print(df.shape)\n",
    "df.isnull().sum() / df.shape[0] * 100"
   ]
  },
  {
   "cell_type": "code",
   "execution_count": 319,
   "metadata": {},
   "outputs": [
    {
     "data": {
      "text/plain": [
       "automatic    0.768694\n",
       "other        0.187763\n",
       "manual       0.042185\n",
       "NaN          0.001359\n",
       "Name: transmission, dtype: float64"
      ]
     },
     "execution_count": 319,
     "metadata": {},
     "output_type": "execute_result"
    }
   ],
   "source": [
    "df['transmission'].value_counts(dropna=False, normalize=True)"
   ]
  },
  {
   "cell_type": "code",
   "execution_count": 320,
   "metadata": {},
   "outputs": [],
   "source": [
    "# Will remove null values\n",
    "df.dropna(subset=['transmission'], inplace=True)"
   ]
  },
  {
   "cell_type": "code",
   "execution_count": 321,
   "metadata": {},
   "outputs": [
    {
     "name": "stdout",
     "output_type": "stream",
     "text": [
      "(133019, 14)\n"
     ]
    },
    {
     "data": {
      "text/plain": [
       "region           0.000000\n",
       "price            0.000000\n",
       "year             0.000000\n",
       "manufacturer     0.000000\n",
       "cylinders        0.000000\n",
       "fuel             0.000000\n",
       "odometer         0.000000\n",
       "title_status     0.000000\n",
       "transmission     0.000000\n",
       "VIN              0.000000\n",
       "drive           14.295702\n",
       "type             5.630023\n",
       "paint_color     20.348973\n",
       "state            0.000000\n",
       "dtype: float64"
      ]
     },
     "execution_count": 321,
     "metadata": {},
     "output_type": "execute_result"
    }
   ],
   "source": [
    "print(df.shape)\n",
    "df.isnull().sum() / df.shape[0] * 100"
   ]
  },
  {
   "cell_type": "code",
   "execution_count": 323,
   "metadata": {},
   "outputs": [
    {
     "data": {
      "text/plain": [
       "4wd    0.420707\n",
       "fwd    0.269525\n",
       "rwd    0.166811\n",
       "NaN    0.142957\n",
       "Name: drive, dtype: float64"
      ]
     },
     "execution_count": 323,
     "metadata": {},
     "output_type": "execute_result"
    }
   ],
   "source": [
    "df['drive'].value_counts(dropna=False, normalize=True)"
   ]
  },
  {
   "cell_type": "code",
   "execution_count": 324,
   "metadata": {},
   "outputs": [],
   "source": [
    "# Will remove null values\n",
    "df.dropna(subset=['drive'], inplace=True)"
   ]
  },
  {
   "cell_type": "code",
   "execution_count": 325,
   "metadata": {},
   "outputs": [
    {
     "name": "stdout",
     "output_type": "stream",
     "text": [
      "(114003, 14)\n"
     ]
    },
    {
     "data": {
      "text/plain": [
       "region           0.000000\n",
       "price            0.000000\n",
       "year             0.000000\n",
       "manufacturer     0.000000\n",
       "cylinders        0.000000\n",
       "fuel             0.000000\n",
       "odometer         0.000000\n",
       "title_status     0.000000\n",
       "transmission     0.000000\n",
       "VIN              0.000000\n",
       "drive            0.000000\n",
       "type             5.655992\n",
       "paint_color     19.032832\n",
       "state            0.000000\n",
       "dtype: float64"
      ]
     },
     "execution_count": 325,
     "metadata": {},
     "output_type": "execute_result"
    }
   ],
   "source": [
    "print(df.shape)\n",
    "df.isnull().sum() / df.shape[0] * 100"
   ]
  },
  {
   "cell_type": "code",
   "execution_count": 326,
   "metadata": {},
   "outputs": [
    {
     "data": {
      "text/plain": [
       "sedan          0.234231\n",
       "SUV            0.233283\n",
       "truck          0.145593\n",
       "pickup         0.118339\n",
       "NaN            0.056560\n",
       "coupe          0.055481\n",
       "other          0.042429\n",
       "van            0.032894\n",
       "wagon          0.027078\n",
       "hatchback      0.023482\n",
       "convertible    0.017280\n",
       "mini-van       0.011886\n",
       "offroad        0.000947\n",
       "bus            0.000518\n",
       "Name: type, dtype: float64"
      ]
     },
     "execution_count": 326,
     "metadata": {},
     "output_type": "execute_result"
    }
   ],
   "source": [
    "df['type'].value_counts(dropna=False, normalize=True)"
   ]
  },
  {
   "cell_type": "code",
   "execution_count": 327,
   "metadata": {},
   "outputs": [],
   "source": [
    "# Remove null values\n",
    "df.dropna(subset=['type'], inplace=True)"
   ]
  },
  {
   "cell_type": "code",
   "execution_count": 328,
   "metadata": {},
   "outputs": [
    {
     "name": "stdout",
     "output_type": "stream",
     "text": [
      "(107555, 14)\n"
     ]
    },
    {
     "data": {
      "text/plain": [
       "region           0.000000\n",
       "price            0.000000\n",
       "year             0.000000\n",
       "manufacturer     0.000000\n",
       "cylinders        0.000000\n",
       "fuel             0.000000\n",
       "odometer         0.000000\n",
       "title_status     0.000000\n",
       "transmission     0.000000\n",
       "VIN              0.000000\n",
       "drive            0.000000\n",
       "type             0.000000\n",
       "paint_color     17.716517\n",
       "state            0.000000\n",
       "dtype: float64"
      ]
     },
     "execution_count": 328,
     "metadata": {},
     "output_type": "execute_result"
    }
   ],
   "source": [
    "print(df.shape)\n",
    "df.isnull().sum() / df.shape[0] * 100"
   ]
  },
  {
   "cell_type": "code",
   "execution_count": 329,
   "metadata": {},
   "outputs": [
    {
     "data": {
      "text/plain": [
       "white     0.218186\n",
       "NaN       0.177165\n",
       "black     0.169560\n",
       "silver    0.117400\n",
       "grey      0.083381\n",
       "red       0.081605\n",
       "blue      0.081605\n",
       "custom    0.024006\n",
       "green     0.018279\n",
       "brown     0.017424\n",
       "yellow    0.005374\n",
       "orange    0.004295\n",
       "purple    0.001720\n",
       "Name: paint_color, dtype: float64"
      ]
     },
     "execution_count": 329,
     "metadata": {},
     "output_type": "execute_result"
    }
   ],
   "source": [
    "df['paint_color'].value_counts(dropna=False, normalize=True)"
   ]
  },
  {
   "cell_type": "code",
   "execution_count": 330,
   "metadata": {},
   "outputs": [],
   "source": [
    "# Remove null values\n",
    "df.dropna(subset=['paint_color'], inplace=True)"
   ]
  },
  {
   "cell_type": "code",
   "execution_count": 331,
   "metadata": {},
   "outputs": [
    {
     "name": "stdout",
     "output_type": "stream",
     "text": [
      "(88500, 14)\n"
     ]
    },
    {
     "data": {
      "text/plain": [
       "region          0.0\n",
       "price           0.0\n",
       "year            0.0\n",
       "manufacturer    0.0\n",
       "cylinders       0.0\n",
       "fuel            0.0\n",
       "odometer        0.0\n",
       "title_status    0.0\n",
       "transmission    0.0\n",
       "VIN             0.0\n",
       "drive           0.0\n",
       "type            0.0\n",
       "paint_color     0.0\n",
       "state           0.0\n",
       "dtype: float64"
      ]
     },
     "execution_count": 331,
     "metadata": {},
     "output_type": "execute_result"
    }
   ],
   "source": [
    "print(df.shape)\n",
    "df.isnull().sum() / df.shape[0] * 100"
   ]
  },
  {
   "cell_type": "code",
   "execution_count": 332,
   "metadata": {},
   "outputs": [
    {
     "data": {
      "text/html": [
       "<div>\n",
       "<style scoped>\n",
       "    .dataframe tbody tr th:only-of-type {\n",
       "        vertical-align: middle;\n",
       "    }\n",
       "\n",
       "    .dataframe tbody tr th {\n",
       "        vertical-align: top;\n",
       "    }\n",
       "\n",
       "    .dataframe thead th {\n",
       "        text-align: right;\n",
       "    }\n",
       "</style>\n",
       "<table border=\"1\" class=\"dataframe\">\n",
       "  <thead>\n",
       "    <tr style=\"text-align: right;\">\n",
       "      <th></th>\n",
       "      <th>region</th>\n",
       "      <th>price</th>\n",
       "      <th>year</th>\n",
       "      <th>manufacturer</th>\n",
       "      <th>cylinders</th>\n",
       "      <th>fuel</th>\n",
       "      <th>odometer</th>\n",
       "      <th>title_status</th>\n",
       "      <th>transmission</th>\n",
       "      <th>VIN</th>\n",
       "      <th>drive</th>\n",
       "      <th>type</th>\n",
       "      <th>paint_color</th>\n",
       "      <th>state</th>\n",
       "    </tr>\n",
       "  </thead>\n",
       "  <tbody>\n",
       "    <tr>\n",
       "      <th>230</th>\n",
       "      <td>birmingham</td>\n",
       "      <td>27990</td>\n",
       "      <td>2012</td>\n",
       "      <td>gmc</td>\n",
       "      <td>8</td>\n",
       "      <td>gas</td>\n",
       "      <td>68696.0</td>\n",
       "      <td>clean</td>\n",
       "      <td>other</td>\n",
       "      <td>1GT220CG8CZ231238</td>\n",
       "      <td>4wd</td>\n",
       "      <td>pickup</td>\n",
       "      <td>black</td>\n",
       "      <td>al</td>\n",
       "    </tr>\n",
       "    <tr>\n",
       "      <th>251</th>\n",
       "      <td>birmingham</td>\n",
       "      <td>29990</td>\n",
       "      <td>2016</td>\n",
       "      <td>chevrolet</td>\n",
       "      <td>6</td>\n",
       "      <td>gas</td>\n",
       "      <td>17302.0</td>\n",
       "      <td>clean</td>\n",
       "      <td>other</td>\n",
       "      <td>1GCHTCE37G1186784</td>\n",
       "      <td>4wd</td>\n",
       "      <td>pickup</td>\n",
       "      <td>red</td>\n",
       "      <td>al</td>\n",
       "    </tr>\n",
       "    <tr>\n",
       "      <th>285</th>\n",
       "      <td>birmingham</td>\n",
       "      <td>32990</td>\n",
       "      <td>2017</td>\n",
       "      <td>jeep</td>\n",
       "      <td>6</td>\n",
       "      <td>gas</td>\n",
       "      <td>30041.0</td>\n",
       "      <td>clean</td>\n",
       "      <td>other</td>\n",
       "      <td>1C4BJWDG5HL705371</td>\n",
       "      <td>4wd</td>\n",
       "      <td>other</td>\n",
       "      <td>silver</td>\n",
       "      <td>al</td>\n",
       "    </tr>\n",
       "    <tr>\n",
       "      <th>422</th>\n",
       "      <td>birmingham</td>\n",
       "      <td>3399</td>\n",
       "      <td>2006</td>\n",
       "      <td>buick</td>\n",
       "      <td>6</td>\n",
       "      <td>gas</td>\n",
       "      <td>160218.0</td>\n",
       "      <td>clean</td>\n",
       "      <td>automatic</td>\n",
       "      <td>2G4WD582061211256</td>\n",
       "      <td>fwd</td>\n",
       "      <td>sedan</td>\n",
       "      <td>blue</td>\n",
       "      <td>al</td>\n",
       "    </tr>\n",
       "    <tr>\n",
       "      <th>425</th>\n",
       "      <td>birmingham</td>\n",
       "      <td>3900</td>\n",
       "      <td>2009</td>\n",
       "      <td>hyundai</td>\n",
       "      <td>4</td>\n",
       "      <td>gas</td>\n",
       "      <td>162005.0</td>\n",
       "      <td>clean</td>\n",
       "      <td>automatic</td>\n",
       "      <td>KMHDU46D49U684737</td>\n",
       "      <td>rwd</td>\n",
       "      <td>sedan</td>\n",
       "      <td>white</td>\n",
       "      <td>al</td>\n",
       "    </tr>\n",
       "    <tr>\n",
       "      <th>...</th>\n",
       "      <td>...</td>\n",
       "      <td>...</td>\n",
       "      <td>...</td>\n",
       "      <td>...</td>\n",
       "      <td>...</td>\n",
       "      <td>...</td>\n",
       "      <td>...</td>\n",
       "      <td>...</td>\n",
       "      <td>...</td>\n",
       "      <td>...</td>\n",
       "      <td>...</td>\n",
       "      <td>...</td>\n",
       "      <td>...</td>\n",
       "      <td>...</td>\n",
       "    </tr>\n",
       "    <tr>\n",
       "      <th>426859</th>\n",
       "      <td>wyoming</td>\n",
       "      <td>48590</td>\n",
       "      <td>2020</td>\n",
       "      <td>cadillac</td>\n",
       "      <td>6</td>\n",
       "      <td>gas</td>\n",
       "      <td>7701.0</td>\n",
       "      <td>clean</td>\n",
       "      <td>other</td>\n",
       "      <td>1GYKPCRSXLZ181516</td>\n",
       "      <td>fwd</td>\n",
       "      <td>other</td>\n",
       "      <td>black</td>\n",
       "      <td>wy</td>\n",
       "    </tr>\n",
       "    <tr>\n",
       "      <th>426860</th>\n",
       "      <td>wyoming</td>\n",
       "      <td>39990</td>\n",
       "      <td>2017</td>\n",
       "      <td>infiniti</td>\n",
       "      <td>8</td>\n",
       "      <td>gas</td>\n",
       "      <td>41664.0</td>\n",
       "      <td>clean</td>\n",
       "      <td>automatic</td>\n",
       "      <td>JN8AZ2NE3H9156734</td>\n",
       "      <td>4wd</td>\n",
       "      <td>other</td>\n",
       "      <td>black</td>\n",
       "      <td>wy</td>\n",
       "    </tr>\n",
       "    <tr>\n",
       "      <th>426866</th>\n",
       "      <td>wyoming</td>\n",
       "      <td>32990</td>\n",
       "      <td>2016</td>\n",
       "      <td>infiniti</td>\n",
       "      <td>8</td>\n",
       "      <td>gas</td>\n",
       "      <td>55612.0</td>\n",
       "      <td>clean</td>\n",
       "      <td>automatic</td>\n",
       "      <td>JN8AZ2NF5G9611039</td>\n",
       "      <td>rwd</td>\n",
       "      <td>other</td>\n",
       "      <td>black</td>\n",
       "      <td>wy</td>\n",
       "    </tr>\n",
       "    <tr>\n",
       "      <th>426874</th>\n",
       "      <td>wyoming</td>\n",
       "      <td>33590</td>\n",
       "      <td>2018</td>\n",
       "      <td>lexus</td>\n",
       "      <td>6</td>\n",
       "      <td>gas</td>\n",
       "      <td>30814.0</td>\n",
       "      <td>clean</td>\n",
       "      <td>automatic</td>\n",
       "      <td>JTHBZ1BLXJA012999</td>\n",
       "      <td>rwd</td>\n",
       "      <td>sedan</td>\n",
       "      <td>white</td>\n",
       "      <td>wy</td>\n",
       "    </tr>\n",
       "    <tr>\n",
       "      <th>426878</th>\n",
       "      <td>wyoming</td>\n",
       "      <td>28990</td>\n",
       "      <td>2018</td>\n",
       "      <td>lexus</td>\n",
       "      <td>6</td>\n",
       "      <td>gas</td>\n",
       "      <td>30112.0</td>\n",
       "      <td>clean</td>\n",
       "      <td>other</td>\n",
       "      <td>58ABK1GG4JU103853</td>\n",
       "      <td>fwd</td>\n",
       "      <td>sedan</td>\n",
       "      <td>silver</td>\n",
       "      <td>wy</td>\n",
       "    </tr>\n",
       "  </tbody>\n",
       "</table>\n",
       "<p>42557 rows × 14 columns</p>\n",
       "</div>"
      ],
      "text/plain": [
       "            region  price  year manufacturer  cylinders fuel  odometer  \\\n",
       "230     birmingham  27990  2012          gmc          8  gas   68696.0   \n",
       "251     birmingham  29990  2016    chevrolet          6  gas   17302.0   \n",
       "285     birmingham  32990  2017         jeep          6  gas   30041.0   \n",
       "422     birmingham   3399  2006        buick          6  gas  160218.0   \n",
       "425     birmingham   3900  2009      hyundai          4  gas  162005.0   \n",
       "...            ...    ...   ...          ...        ...  ...       ...   \n",
       "426859     wyoming  48590  2020     cadillac          6  gas    7701.0   \n",
       "426860     wyoming  39990  2017     infiniti          8  gas   41664.0   \n",
       "426866     wyoming  32990  2016     infiniti          8  gas   55612.0   \n",
       "426874     wyoming  33590  2018        lexus          6  gas   30814.0   \n",
       "426878     wyoming  28990  2018        lexus          6  gas   30112.0   \n",
       "\n",
       "       title_status transmission                VIN drive    type paint_color  \\\n",
       "230           clean        other  1GT220CG8CZ231238   4wd  pickup       black   \n",
       "251           clean        other  1GCHTCE37G1186784   4wd  pickup         red   \n",
       "285           clean        other  1C4BJWDG5HL705371   4wd   other      silver   \n",
       "422           clean    automatic  2G4WD582061211256   fwd   sedan        blue   \n",
       "425           clean    automatic  KMHDU46D49U684737   rwd   sedan       white   \n",
       "...             ...          ...                ...   ...     ...         ...   \n",
       "426859        clean        other  1GYKPCRSXLZ181516   fwd   other       black   \n",
       "426860        clean    automatic  JN8AZ2NE3H9156734   4wd   other       black   \n",
       "426866        clean    automatic  JN8AZ2NF5G9611039   rwd   other       black   \n",
       "426874        clean    automatic  JTHBZ1BLXJA012999   rwd   sedan       white   \n",
       "426878        clean        other  58ABK1GG4JU103853   fwd   sedan      silver   \n",
       "\n",
       "       state  \n",
       "230       al  \n",
       "251       al  \n",
       "285       al  \n",
       "422       al  \n",
       "425       al  \n",
       "...      ...  \n",
       "426859    wy  \n",
       "426860    wy  \n",
       "426866    wy  \n",
       "426874    wy  \n",
       "426878    wy  \n",
       "\n",
       "[42557 rows x 14 columns]"
      ]
     },
     "execution_count": 332,
     "metadata": {},
     "output_type": "execute_result"
    }
   ],
   "source": [
    "# Checking for duplicatd VINs\n",
    "df.loc[df.duplicated(subset=['VIN'])]"
   ]
  },
  {
   "cell_type": "code",
   "execution_count": 338,
   "metadata": {},
   "outputs": [
    {
     "data": {
      "text/html": [
       "<div>\n",
       "<style scoped>\n",
       "    .dataframe tbody tr th:only-of-type {\n",
       "        vertical-align: middle;\n",
       "    }\n",
       "\n",
       "    .dataframe tbody tr th {\n",
       "        vertical-align: top;\n",
       "    }\n",
       "\n",
       "    .dataframe thead th {\n",
       "        text-align: right;\n",
       "    }\n",
       "</style>\n",
       "<table border=\"1\" class=\"dataframe\">\n",
       "  <thead>\n",
       "    <tr style=\"text-align: right;\">\n",
       "      <th></th>\n",
       "      <th>region</th>\n",
       "      <th>price</th>\n",
       "      <th>year</th>\n",
       "      <th>manufacturer</th>\n",
       "      <th>cylinders</th>\n",
       "      <th>fuel</th>\n",
       "      <th>odometer</th>\n",
       "      <th>title_status</th>\n",
       "      <th>transmission</th>\n",
       "      <th>VIN</th>\n",
       "      <th>drive</th>\n",
       "      <th>type</th>\n",
       "      <th>paint_color</th>\n",
       "      <th>state</th>\n",
       "    </tr>\n",
       "  </thead>\n",
       "  <tbody>\n",
       "    <tr>\n",
       "      <th>215</th>\n",
       "      <td>birmingham</td>\n",
       "      <td>4000</td>\n",
       "      <td>2002</td>\n",
       "      <td>toyota</td>\n",
       "      <td>4</td>\n",
       "      <td>gas</td>\n",
       "      <td>155000.0</td>\n",
       "      <td>clean</td>\n",
       "      <td>automatic</td>\n",
       "      <td>JTDBT123520243495</td>\n",
       "      <td>fwd</td>\n",
       "      <td>sedan</td>\n",
       "      <td>blue</td>\n",
       "      <td>al</td>\n",
       "    </tr>\n",
       "    <tr>\n",
       "      <th>364</th>\n",
       "      <td>birmingham</td>\n",
       "      <td>7300</td>\n",
       "      <td>2007</td>\n",
       "      <td>lexus</td>\n",
       "      <td>6</td>\n",
       "      <td>gas</td>\n",
       "      <td>181000.0</td>\n",
       "      <td>clean</td>\n",
       "      <td>automatic</td>\n",
       "      <td>2T2GK31U57C025466</td>\n",
       "      <td>fwd</td>\n",
       "      <td>SUV</td>\n",
       "      <td>white</td>\n",
       "      <td>al</td>\n",
       "    </tr>\n",
       "    <tr>\n",
       "      <th>418</th>\n",
       "      <td>birmingham</td>\n",
       "      <td>4275</td>\n",
       "      <td>2006</td>\n",
       "      <td>jeep</td>\n",
       "      <td>6</td>\n",
       "      <td>gas</td>\n",
       "      <td>174132.0</td>\n",
       "      <td>clean</td>\n",
       "      <td>automatic</td>\n",
       "      <td>1J8GL48K06W123802</td>\n",
       "      <td>4wd</td>\n",
       "      <td>SUV</td>\n",
       "      <td>red</td>\n",
       "      <td>al</td>\n",
       "    </tr>\n",
       "    <tr>\n",
       "      <th>489</th>\n",
       "      <td>birmingham</td>\n",
       "      <td>15990</td>\n",
       "      <td>2015</td>\n",
       "      <td>chevrolet</td>\n",
       "      <td>6</td>\n",
       "      <td>gas</td>\n",
       "      <td>53000.0</td>\n",
       "      <td>clean</td>\n",
       "      <td>automatic</td>\n",
       "      <td>2G1FB1E38F9300602</td>\n",
       "      <td>rwd</td>\n",
       "      <td>other</td>\n",
       "      <td>black</td>\n",
       "      <td>al</td>\n",
       "    </tr>\n",
       "    <tr>\n",
       "      <th>738</th>\n",
       "      <td>birmingham</td>\n",
       "      <td>31500</td>\n",
       "      <td>2019</td>\n",
       "      <td>gmc</td>\n",
       "      <td>8</td>\n",
       "      <td>gas</td>\n",
       "      <td>24585.0</td>\n",
       "      <td>clean</td>\n",
       "      <td>automatic</td>\n",
       "      <td>1GTW7AFG9K1222985</td>\n",
       "      <td>rwd</td>\n",
       "      <td>van</td>\n",
       "      <td>white</td>\n",
       "      <td>al</td>\n",
       "    </tr>\n",
       "    <tr>\n",
       "      <th>...</th>\n",
       "      <td>...</td>\n",
       "      <td>...</td>\n",
       "      <td>...</td>\n",
       "      <td>...</td>\n",
       "      <td>...</td>\n",
       "      <td>...</td>\n",
       "      <td>...</td>\n",
       "      <td>...</td>\n",
       "      <td>...</td>\n",
       "      <td>...</td>\n",
       "      <td>...</td>\n",
       "      <td>...</td>\n",
       "      <td>...</td>\n",
       "      <td>...</td>\n",
       "    </tr>\n",
       "    <tr>\n",
       "      <th>424832</th>\n",
       "      <td>milwaukee</td>\n",
       "      <td>17452</td>\n",
       "      <td>2017</td>\n",
       "      <td>ford</td>\n",
       "      <td>6</td>\n",
       "      <td>gas</td>\n",
       "      <td>154589.0</td>\n",
       "      <td>clean</td>\n",
       "      <td>automatic</td>\n",
       "      <td>1FTYR2ZGXHKA96370</td>\n",
       "      <td>rwd</td>\n",
       "      <td>van</td>\n",
       "      <td>white</td>\n",
       "      <td>wi</td>\n",
       "    </tr>\n",
       "    <tr>\n",
       "      <th>424836</th>\n",
       "      <td>milwaukee</td>\n",
       "      <td>6981</td>\n",
       "      <td>2010</td>\n",
       "      <td>chrysler</td>\n",
       "      <td>6</td>\n",
       "      <td>gas</td>\n",
       "      <td>166410.0</td>\n",
       "      <td>clean</td>\n",
       "      <td>automatic</td>\n",
       "      <td>2A4RR5DX2AR137136</td>\n",
       "      <td>fwd</td>\n",
       "      <td>van</td>\n",
       "      <td>black</td>\n",
       "      <td>wi</td>\n",
       "    </tr>\n",
       "    <tr>\n",
       "      <th>424838</th>\n",
       "      <td>milwaukee</td>\n",
       "      <td>16487</td>\n",
       "      <td>2008</td>\n",
       "      <td>nissan</td>\n",
       "      <td>8</td>\n",
       "      <td>gas</td>\n",
       "      <td>103165.0</td>\n",
       "      <td>clean</td>\n",
       "      <td>automatic</td>\n",
       "      <td>1N6BA07C48N359238</td>\n",
       "      <td>4wd</td>\n",
       "      <td>truck</td>\n",
       "      <td>custom</td>\n",
       "      <td>wi</td>\n",
       "    </tr>\n",
       "    <tr>\n",
       "      <th>426523</th>\n",
       "      <td>wyoming</td>\n",
       "      <td>17000</td>\n",
       "      <td>1996</td>\n",
       "      <td>ford</td>\n",
       "      <td>8</td>\n",
       "      <td>diesel</td>\n",
       "      <td>246000.0</td>\n",
       "      <td>clean</td>\n",
       "      <td>automatic</td>\n",
       "      <td>1FTHX26F2TEB44761</td>\n",
       "      <td>4wd</td>\n",
       "      <td>truck</td>\n",
       "      <td>green</td>\n",
       "      <td>wy</td>\n",
       "    </tr>\n",
       "    <tr>\n",
       "      <th>426878</th>\n",
       "      <td>wyoming</td>\n",
       "      <td>28990</td>\n",
       "      <td>2018</td>\n",
       "      <td>lexus</td>\n",
       "      <td>6</td>\n",
       "      <td>gas</td>\n",
       "      <td>30112.0</td>\n",
       "      <td>clean</td>\n",
       "      <td>other</td>\n",
       "      <td>58ABK1GG4JU103853</td>\n",
       "      <td>fwd</td>\n",
       "      <td>sedan</td>\n",
       "      <td>silver</td>\n",
       "      <td>wy</td>\n",
       "    </tr>\n",
       "  </tbody>\n",
       "</table>\n",
       "<p>3540 rows × 14 columns</p>\n",
       "</div>"
      ],
      "text/plain": [
       "            region  price  year manufacturer  cylinders    fuel  odometer  \\\n",
       "215     birmingham   4000  2002       toyota          4     gas  155000.0   \n",
       "364     birmingham   7300  2007        lexus          6     gas  181000.0   \n",
       "418     birmingham   4275  2006         jeep          6     gas  174132.0   \n",
       "489     birmingham  15990  2015    chevrolet          6     gas   53000.0   \n",
       "738     birmingham  31500  2019          gmc          8     gas   24585.0   \n",
       "...            ...    ...   ...          ...        ...     ...       ...   \n",
       "424832   milwaukee  17452  2017         ford          6     gas  154589.0   \n",
       "424836   milwaukee   6981  2010     chrysler          6     gas  166410.0   \n",
       "424838   milwaukee  16487  2008       nissan          8     gas  103165.0   \n",
       "426523     wyoming  17000  1996         ford          8  diesel  246000.0   \n",
       "426878     wyoming  28990  2018        lexus          6     gas   30112.0   \n",
       "\n",
       "       title_status transmission                VIN drive   type paint_color  \\\n",
       "215           clean    automatic  JTDBT123520243495   fwd  sedan        blue   \n",
       "364           clean    automatic  2T2GK31U57C025466   fwd    SUV       white   \n",
       "418           clean    automatic  1J8GL48K06W123802   4wd    SUV         red   \n",
       "489           clean    automatic  2G1FB1E38F9300602   rwd  other       black   \n",
       "738           clean    automatic  1GTW7AFG9K1222985   rwd    van       white   \n",
       "...             ...          ...                ...   ...    ...         ...   \n",
       "424832        clean    automatic  1FTYR2ZGXHKA96370   rwd    van       white   \n",
       "424836        clean    automatic  2A4RR5DX2AR137136   fwd    van       black   \n",
       "424838        clean    automatic  1N6BA07C48N359238   4wd  truck      custom   \n",
       "426523        clean    automatic  1FTHX26F2TEB44761   4wd  truck       green   \n",
       "426878        clean        other  58ABK1GG4JU103853   fwd  sedan      silver   \n",
       "\n",
       "       state  \n",
       "215       al  \n",
       "364       al  \n",
       "418       al  \n",
       "489       al  \n",
       "738       al  \n",
       "...      ...  \n",
       "424832    wi  \n",
       "424836    wi  \n",
       "424838    wi  \n",
       "426523    wy  \n",
       "426878    wy  \n",
       "\n",
       "[3540 rows x 14 columns]"
      ]
     },
     "execution_count": 338,
     "metadata": {},
     "output_type": "execute_result"
    }
   ],
   "source": [
    "df.groupby('VIN').filter(lambda x: x['price'].nunique() > 1)"
   ]
  },
  {
   "cell_type": "code",
   "execution_count": 339,
   "metadata": {},
   "outputs": [
    {
     "data": {
      "text/html": [
       "<div>\n",
       "<style scoped>\n",
       "    .dataframe tbody tr th:only-of-type {\n",
       "        vertical-align: middle;\n",
       "    }\n",
       "\n",
       "    .dataframe tbody tr th {\n",
       "        vertical-align: top;\n",
       "    }\n",
       "\n",
       "    .dataframe thead th {\n",
       "        text-align: right;\n",
       "    }\n",
       "</style>\n",
       "<table border=\"1\" class=\"dataframe\">\n",
       "  <thead>\n",
       "    <tr style=\"text-align: right;\">\n",
       "      <th></th>\n",
       "      <th>region</th>\n",
       "      <th>price</th>\n",
       "      <th>year</th>\n",
       "      <th>manufacturer</th>\n",
       "      <th>cylinders</th>\n",
       "      <th>fuel</th>\n",
       "      <th>odometer</th>\n",
       "      <th>title_status</th>\n",
       "      <th>transmission</th>\n",
       "      <th>VIN</th>\n",
       "      <th>drive</th>\n",
       "      <th>type</th>\n",
       "      <th>paint_color</th>\n",
       "      <th>state</th>\n",
       "    </tr>\n",
       "  </thead>\n",
       "  <tbody>\n",
       "    <tr>\n",
       "      <th>215</th>\n",
       "      <td>birmingham</td>\n",
       "      <td>4000</td>\n",
       "      <td>2002</td>\n",
       "      <td>toyota</td>\n",
       "      <td>4</td>\n",
       "      <td>gas</td>\n",
       "      <td>155000.0</td>\n",
       "      <td>clean</td>\n",
       "      <td>automatic</td>\n",
       "      <td>JTDBT123520243495</td>\n",
       "      <td>fwd</td>\n",
       "      <td>sedan</td>\n",
       "      <td>blue</td>\n",
       "      <td>al</td>\n",
       "    </tr>\n",
       "    <tr>\n",
       "      <th>121767</th>\n",
       "      <td>atlanta</td>\n",
       "      <td>3995</td>\n",
       "      <td>2002</td>\n",
       "      <td>toyota</td>\n",
       "      <td>4</td>\n",
       "      <td>gas</td>\n",
       "      <td>155000.0</td>\n",
       "      <td>clean</td>\n",
       "      <td>automatic</td>\n",
       "      <td>JTDBT123520243495</td>\n",
       "      <td>fwd</td>\n",
       "      <td>sedan</td>\n",
       "      <td>blue</td>\n",
       "      <td>ga</td>\n",
       "    </tr>\n",
       "    <tr>\n",
       "      <th>351600</th>\n",
       "      <td>chattanooga</td>\n",
       "      <td>4000</td>\n",
       "      <td>2002</td>\n",
       "      <td>toyota</td>\n",
       "      <td>4</td>\n",
       "      <td>gas</td>\n",
       "      <td>155000.0</td>\n",
       "      <td>clean</td>\n",
       "      <td>automatic</td>\n",
       "      <td>JTDBT123520243495</td>\n",
       "      <td>fwd</td>\n",
       "      <td>sedan</td>\n",
       "      <td>blue</td>\n",
       "      <td>tn</td>\n",
       "    </tr>\n",
       "  </tbody>\n",
       "</table>\n",
       "</div>"
      ],
      "text/plain": [
       "             region  price  year manufacturer  cylinders fuel  odometer  \\\n",
       "215      birmingham   4000  2002       toyota          4  gas  155000.0   \n",
       "121767      atlanta   3995  2002       toyota          4  gas  155000.0   \n",
       "351600  chattanooga   4000  2002       toyota          4  gas  155000.0   \n",
       "\n",
       "       title_status transmission                VIN drive   type paint_color  \\\n",
       "215           clean    automatic  JTDBT123520243495   fwd  sedan        blue   \n",
       "121767        clean    automatic  JTDBT123520243495   fwd  sedan        blue   \n",
       "351600        clean    automatic  JTDBT123520243495   fwd  sedan        blue   \n",
       "\n",
       "       state  \n",
       "215       al  \n",
       "121767    ga  \n",
       "351600    tn  "
      ]
     },
     "execution_count": 339,
     "metadata": {},
     "output_type": "execute_result"
    }
   ],
   "source": [
    "# Example of duplicatd VIN\n",
    "df.query(\"VIN == 'JTDBT123520243495'\")"
   ]
  },
  {
   "cell_type": "code",
   "execution_count": 35,
   "metadata": {},
   "outputs": [
    {
     "data": {
      "text/html": [
       "<div>\n",
       "<style scoped>\n",
       "    .dataframe tbody tr th:only-of-type {\n",
       "        vertical-align: middle;\n",
       "    }\n",
       "\n",
       "    .dataframe tbody tr th {\n",
       "        vertical-align: top;\n",
       "    }\n",
       "\n",
       "    .dataframe thead th {\n",
       "        text-align: right;\n",
       "    }\n",
       "</style>\n",
       "<table border=\"1\" class=\"dataframe\">\n",
       "  <thead>\n",
       "    <tr style=\"text-align: right;\">\n",
       "      <th></th>\n",
       "      <th>region</th>\n",
       "      <th>price</th>\n",
       "      <th>year</th>\n",
       "      <th>manufacturer</th>\n",
       "      <th>model</th>\n",
       "      <th>condition</th>\n",
       "      <th>cylinders</th>\n",
       "      <th>fuel</th>\n",
       "      <th>odometer</th>\n",
       "      <th>title_status</th>\n",
       "      <th>transmission</th>\n",
       "      <th>VIN</th>\n",
       "      <th>drive</th>\n",
       "      <th>size</th>\n",
       "      <th>type</th>\n",
       "      <th>paint_color</th>\n",
       "      <th>state</th>\n",
       "    </tr>\n",
       "  </thead>\n",
       "  <tbody>\n",
       "    <tr>\n",
       "      <th>0</th>\n",
       "      <td>prescott</td>\n",
       "      <td>6000</td>\n",
       "      <td>NaN</td>\n",
       "      <td>NaN</td>\n",
       "      <td>NaN</td>\n",
       "      <td>NaN</td>\n",
       "      <td>NaN</td>\n",
       "      <td>NaN</td>\n",
       "      <td>NaN</td>\n",
       "      <td>NaN</td>\n",
       "      <td>NaN</td>\n",
       "      <td>NaN</td>\n",
       "      <td>NaN</td>\n",
       "      <td>NaN</td>\n",
       "      <td>NaN</td>\n",
       "      <td>NaN</td>\n",
       "      <td>az</td>\n",
       "    </tr>\n",
       "    <tr>\n",
       "      <th>1</th>\n",
       "      <td>fayetteville</td>\n",
       "      <td>11900</td>\n",
       "      <td>NaN</td>\n",
       "      <td>NaN</td>\n",
       "      <td>NaN</td>\n",
       "      <td>NaN</td>\n",
       "      <td>NaN</td>\n",
       "      <td>NaN</td>\n",
       "      <td>NaN</td>\n",
       "      <td>NaN</td>\n",
       "      <td>NaN</td>\n",
       "      <td>NaN</td>\n",
       "      <td>NaN</td>\n",
       "      <td>NaN</td>\n",
       "      <td>NaN</td>\n",
       "      <td>NaN</td>\n",
       "      <td>ar</td>\n",
       "    </tr>\n",
       "    <tr>\n",
       "      <th>2</th>\n",
       "      <td>florida keys</td>\n",
       "      <td>21000</td>\n",
       "      <td>NaN</td>\n",
       "      <td>NaN</td>\n",
       "      <td>NaN</td>\n",
       "      <td>NaN</td>\n",
       "      <td>NaN</td>\n",
       "      <td>NaN</td>\n",
       "      <td>NaN</td>\n",
       "      <td>NaN</td>\n",
       "      <td>NaN</td>\n",
       "      <td>NaN</td>\n",
       "      <td>NaN</td>\n",
       "      <td>NaN</td>\n",
       "      <td>NaN</td>\n",
       "      <td>NaN</td>\n",
       "      <td>fl</td>\n",
       "    </tr>\n",
       "    <tr>\n",
       "      <th>3</th>\n",
       "      <td>worcester / central MA</td>\n",
       "      <td>1500</td>\n",
       "      <td>NaN</td>\n",
       "      <td>NaN</td>\n",
       "      <td>NaN</td>\n",
       "      <td>NaN</td>\n",
       "      <td>NaN</td>\n",
       "      <td>NaN</td>\n",
       "      <td>NaN</td>\n",
       "      <td>NaN</td>\n",
       "      <td>NaN</td>\n",
       "      <td>NaN</td>\n",
       "      <td>NaN</td>\n",
       "      <td>NaN</td>\n",
       "      <td>NaN</td>\n",
       "      <td>NaN</td>\n",
       "      <td>ma</td>\n",
       "    </tr>\n",
       "    <tr>\n",
       "      <th>4</th>\n",
       "      <td>greensboro</td>\n",
       "      <td>4900</td>\n",
       "      <td>NaN</td>\n",
       "      <td>NaN</td>\n",
       "      <td>NaN</td>\n",
       "      <td>NaN</td>\n",
       "      <td>NaN</td>\n",
       "      <td>NaN</td>\n",
       "      <td>NaN</td>\n",
       "      <td>NaN</td>\n",
       "      <td>NaN</td>\n",
       "      <td>NaN</td>\n",
       "      <td>NaN</td>\n",
       "      <td>NaN</td>\n",
       "      <td>NaN</td>\n",
       "      <td>NaN</td>\n",
       "      <td>nc</td>\n",
       "    </tr>\n",
       "    <tr>\n",
       "      <th>...</th>\n",
       "      <td>...</td>\n",
       "      <td>...</td>\n",
       "      <td>...</td>\n",
       "      <td>...</td>\n",
       "      <td>...</td>\n",
       "      <td>...</td>\n",
       "      <td>...</td>\n",
       "      <td>...</td>\n",
       "      <td>...</td>\n",
       "      <td>...</td>\n",
       "      <td>...</td>\n",
       "      <td>...</td>\n",
       "      <td>...</td>\n",
       "      <td>...</td>\n",
       "      <td>...</td>\n",
       "      <td>...</td>\n",
       "      <td>...</td>\n",
       "    </tr>\n",
       "    <tr>\n",
       "      <th>211766</th>\n",
       "      <td>wyoming</td>\n",
       "      <td>6250</td>\n",
       "      <td>2006.0</td>\n",
       "      <td>chevrolet</td>\n",
       "      <td>silverado 2500hd</td>\n",
       "      <td>good</td>\n",
       "      <td>8 cylinders</td>\n",
       "      <td>gas</td>\n",
       "      <td>200000.0</td>\n",
       "      <td>clean</td>\n",
       "      <td>automatic</td>\n",
       "      <td>NaN</td>\n",
       "      <td>4wd</td>\n",
       "      <td>full-size</td>\n",
       "      <td>truck</td>\n",
       "      <td>red</td>\n",
       "      <td>wy</td>\n",
       "    </tr>\n",
       "    <tr>\n",
       "      <th>211767</th>\n",
       "      <td>wyoming</td>\n",
       "      <td>18000</td>\n",
       "      <td>1990.0</td>\n",
       "      <td>jeep</td>\n",
       "      <td>gand wagoneer</td>\n",
       "      <td>good</td>\n",
       "      <td>8 cylinders</td>\n",
       "      <td>gas</td>\n",
       "      <td>114400.0</td>\n",
       "      <td>clean</td>\n",
       "      <td>automatic</td>\n",
       "      <td>NaN</td>\n",
       "      <td>4wd</td>\n",
       "      <td>full-size</td>\n",
       "      <td>SUV</td>\n",
       "      <td>black</td>\n",
       "      <td>wy</td>\n",
       "    </tr>\n",
       "    <tr>\n",
       "      <th>211768</th>\n",
       "      <td>wyoming</td>\n",
       "      <td>21990</td>\n",
       "      <td>2016.0</td>\n",
       "      <td>bmw</td>\n",
       "      <td>3 series 328i sedan 4d</td>\n",
       "      <td>good</td>\n",
       "      <td>NaN</td>\n",
       "      <td>other</td>\n",
       "      <td>26599.0</td>\n",
       "      <td>clean</td>\n",
       "      <td>automatic</td>\n",
       "      <td>WBA8E9C59GK648917</td>\n",
       "      <td>rwd</td>\n",
       "      <td>NaN</td>\n",
       "      <td>sedan</td>\n",
       "      <td>blue</td>\n",
       "      <td>wy</td>\n",
       "    </tr>\n",
       "    <tr>\n",
       "      <th>211769</th>\n",
       "      <td>wyoming</td>\n",
       "      <td>6800</td>\n",
       "      <td>1997.0</td>\n",
       "      <td>jaguar</td>\n",
       "      <td>xk8 convertible</td>\n",
       "      <td>good</td>\n",
       "      <td>8 cylinders</td>\n",
       "      <td>gas</td>\n",
       "      <td>69550.0</td>\n",
       "      <td>clean</td>\n",
       "      <td>automatic</td>\n",
       "      <td>SAJGX2749VCOO8376</td>\n",
       "      <td>rwd</td>\n",
       "      <td>compact</td>\n",
       "      <td>convertible</td>\n",
       "      <td>white</td>\n",
       "      <td>wy</td>\n",
       "    </tr>\n",
       "    <tr>\n",
       "      <th>211770</th>\n",
       "      <td>wyoming</td>\n",
       "      <td>21900</td>\n",
       "      <td>1920.0</td>\n",
       "      <td>NaN</td>\n",
       "      <td>Paige Glenbrook Touring</td>\n",
       "      <td>good</td>\n",
       "      <td>6 cylinders</td>\n",
       "      <td>gas</td>\n",
       "      <td>11065.0</td>\n",
       "      <td>clean</td>\n",
       "      <td>manual</td>\n",
       "      <td>NaN</td>\n",
       "      <td>rwd</td>\n",
       "      <td>full-size</td>\n",
       "      <td>other</td>\n",
       "      <td>black</td>\n",
       "      <td>wy</td>\n",
       "    </tr>\n",
       "  </tbody>\n",
       "</table>\n",
       "<p>211771 rows × 17 columns</p>\n",
       "</div>"
      ],
      "text/plain": [
       "                        region  price    year manufacturer  \\\n",
       "0                     prescott   6000     NaN          NaN   \n",
       "1                 fayetteville  11900     NaN          NaN   \n",
       "2                 florida keys  21000     NaN          NaN   \n",
       "3       worcester / central MA   1500     NaN          NaN   \n",
       "4                   greensboro   4900     NaN          NaN   \n",
       "...                        ...    ...     ...          ...   \n",
       "211766                 wyoming   6250  2006.0    chevrolet   \n",
       "211767                 wyoming  18000  1990.0         jeep   \n",
       "211768                 wyoming  21990  2016.0          bmw   \n",
       "211769                 wyoming   6800  1997.0       jaguar   \n",
       "211770                 wyoming  21900  1920.0          NaN   \n",
       "\n",
       "                          model condition    cylinders   fuel  odometer  \\\n",
       "0                           NaN       NaN          NaN    NaN       NaN   \n",
       "1                           NaN       NaN          NaN    NaN       NaN   \n",
       "2                           NaN       NaN          NaN    NaN       NaN   \n",
       "3                           NaN       NaN          NaN    NaN       NaN   \n",
       "4                           NaN       NaN          NaN    NaN       NaN   \n",
       "...                         ...       ...          ...    ...       ...   \n",
       "211766         silverado 2500hd      good  8 cylinders    gas  200000.0   \n",
       "211767            gand wagoneer      good  8 cylinders    gas  114400.0   \n",
       "211768   3 series 328i sedan 4d      good          NaN  other   26599.0   \n",
       "211769          xk8 convertible      good  8 cylinders    gas   69550.0   \n",
       "211770  Paige Glenbrook Touring      good  6 cylinders    gas   11065.0   \n",
       "\n",
       "       title_status transmission                VIN drive       size  \\\n",
       "0               NaN          NaN                NaN   NaN        NaN   \n",
       "1               NaN          NaN                NaN   NaN        NaN   \n",
       "2               NaN          NaN                NaN   NaN        NaN   \n",
       "3               NaN          NaN                NaN   NaN        NaN   \n",
       "4               NaN          NaN                NaN   NaN        NaN   \n",
       "...             ...          ...                ...   ...        ...   \n",
       "211766        clean    automatic                NaN   4wd  full-size   \n",
       "211767        clean    automatic                NaN   4wd  full-size   \n",
       "211768        clean    automatic  WBA8E9C59GK648917   rwd        NaN   \n",
       "211769        clean    automatic  SAJGX2749VCOO8376   rwd    compact   \n",
       "211770        clean       manual                NaN   rwd  full-size   \n",
       "\n",
       "               type paint_color state  \n",
       "0               NaN         NaN    az  \n",
       "1               NaN         NaN    ar  \n",
       "2               NaN         NaN    fl  \n",
       "3               NaN         NaN    ma  \n",
       "4               NaN         NaN    nc  \n",
       "...             ...         ...   ...  \n",
       "211766        truck         red    wy  \n",
       "211767          SUV       black    wy  \n",
       "211768        sedan        blue    wy  \n",
       "211769  convertible       white    wy  \n",
       "211770        other       black    wy  \n",
       "\n",
       "[211771 rows x 17 columns]"
      ]
     },
     "execution_count": 35,
     "metadata": {},
     "output_type": "execute_result"
    }
   ],
   "source": [
    "#  Drop all duplicatd columns with the same VIN, Price, and odometer\n",
    "df = df.loc[~df.duplicated(subset=[\n",
    "    'price', \n",
    "    'year', \n",
    "    'manufacturer', \n",
    "    'model', \n",
    "    'condition',\n",
    "    'cylinders', \n",
    "    'fuel', \n",
    "    'odometer', \n",
    "    'title_status', \n",
    "    'transmission', \n",
    "    'VIN',\n",
    "    'drive', \n",
    "    'type', \n",
    "    'paint_color', \n",
    "    'state'\n",
    "    ])].reset_index(drop=True).copy()\n",
    "df"
   ]
  },
  {
   "cell_type": "code",
   "execution_count": 40,
   "metadata": {},
   "outputs": [],
   "source": [
    "df.dropna(inplace=True)"
   ]
  },
  {
   "cell_type": "code",
   "execution_count": 42,
   "metadata": {},
   "outputs": [
    {
     "data": {
      "text/plain": [
       "(22383, 17)"
      ]
     },
     "execution_count": 42,
     "metadata": {},
     "output_type": "execute_result"
    }
   ],
   "source": [
    "df.shape"
   ]
  },
  {
   "cell_type": "markdown",
   "metadata": {},
   "source": [
    "### Data Preparation\n",
    "\n",
    "After our initial exploration and fine tuning of the business understanding, it is time to construct our final dataset prior to modeling.  Here, we want to make sure to handle any integrity issues and cleaning, the engineering of new features, any transformations that we believe should happen (scaling, logarithms, normalization, etc.), and general preparation for modeling with `sklearn`. "
   ]
  },
  {
   "cell_type": "code",
   "execution_count": null,
   "metadata": {},
   "outputs": [],
   "source": []
  },
  {
   "cell_type": "code",
   "execution_count": null,
   "metadata": {},
   "outputs": [],
   "source": []
  },
  {
   "cell_type": "code",
   "execution_count": null,
   "metadata": {},
   "outputs": [],
   "source": []
  },
  {
   "cell_type": "code",
   "execution_count": null,
   "metadata": {},
   "outputs": [],
   "source": []
  },
  {
   "cell_type": "code",
   "execution_count": null,
   "metadata": {},
   "outputs": [],
   "source": []
  },
  {
   "cell_type": "markdown",
   "metadata": {},
   "source": [
    "### Modeling\n",
    "\n",
    "With your (almost?) final dataset in hand, it is now time to build some models.  Here, you should build a number of different regression models with the price as the target.  In building your models, you should explore different parameters and be sure to cross-validate your findings."
   ]
  },
  {
   "cell_type": "code",
   "execution_count": null,
   "metadata": {},
   "outputs": [],
   "source": [
    "linear"
   ]
  },
  {
   "cell_type": "code",
   "execution_count": null,
   "metadata": {},
   "outputs": [],
   "source": [
    "ridge"
   ]
  },
  {
   "cell_type": "code",
   "execution_count": null,
   "metadata": {},
   "outputs": [],
   "source": [
    "lasso"
   ]
  },
  {
   "cell_type": "code",
   "execution_count": null,
   "metadata": {},
   "outputs": [],
   "source": [
    "something else"
   ]
  },
  {
   "cell_type": "markdown",
   "metadata": {},
   "source": [
    "### Evaluation\n",
    "\n",
    "With some modeling accomplished, we aim to reflect on what we identify as a high quality model and what we are able to learn from this.  We should review our business objective and explore how well we can provide meaningful insight on drivers of used car prices.  Your goal now is to distill your findings and determine whether the earlier phases need revisitation and adjustment or if you have information of value to bring back to your client."
   ]
  },
  {
   "cell_type": "code",
   "execution_count": null,
   "metadata": {},
   "outputs": [],
   "source": []
  },
  {
   "cell_type": "code",
   "execution_count": null,
   "metadata": {},
   "outputs": [],
   "source": []
  },
  {
   "cell_type": "code",
   "execution_count": null,
   "metadata": {},
   "outputs": [],
   "source": []
  },
  {
   "cell_type": "code",
   "execution_count": null,
   "metadata": {},
   "outputs": [],
   "source": []
  },
  {
   "cell_type": "code",
   "execution_count": null,
   "metadata": {},
   "outputs": [],
   "source": []
  },
  {
   "cell_type": "code",
   "execution_count": null,
   "metadata": {},
   "outputs": [],
   "source": []
  },
  {
   "cell_type": "markdown",
   "metadata": {},
   "source": [
    "### Deployment\n",
    "\n",
    "Now that we've settled on our models and findings, it is time to deliver the information to the client.  You should organize your work as a basic report that details your primary findings.  Keep in mind that your audience is a group of used car dealers interested in fine tuning their inventory."
   ]
  },
  {
   "cell_type": "code",
   "execution_count": null,
   "metadata": {},
   "outputs": [],
   "source": []
  },
  {
   "cell_type": "code",
   "execution_count": null,
   "metadata": {},
   "outputs": [],
   "source": []
  },
  {
   "cell_type": "code",
   "execution_count": null,
   "metadata": {},
   "outputs": [],
   "source": []
  },
  {
   "cell_type": "code",
   "execution_count": null,
   "metadata": {},
   "outputs": [],
   "source": []
  },
  {
   "cell_type": "code",
   "execution_count": null,
   "metadata": {},
   "outputs": [],
   "source": []
  },
  {
   "cell_type": "code",
   "execution_count": null,
   "metadata": {},
   "outputs": [],
   "source": []
  },
  {
   "cell_type": "code",
   "execution_count": null,
   "metadata": {},
   "outputs": [],
   "source": []
  }
 ],
 "metadata": {
  "kernelspec": {
   "display_name": "Python 3",
   "language": "python",
   "name": "python3"
  },
  "language_info": {
   "codemirror_mode": {
    "name": "ipython",
    "version": 3
   },
   "file_extension": ".py",
   "mimetype": "text/x-python",
   "name": "python",
   "nbconvert_exporter": "python",
   "pygments_lexer": "ipython3",
   "version": "3.11.4"
  },
  "widgets": {
   "application/vnd.jupyter.widget-state+json": {
    "state": {},
    "version_major": 2,
    "version_minor": 0
   }
  }
 },
 "nbformat": 4,
 "nbformat_minor": 4
}
